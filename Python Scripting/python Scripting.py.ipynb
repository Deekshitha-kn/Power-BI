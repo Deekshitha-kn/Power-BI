{
 "cells": [
  {
   "cell_type": "code",
   "execution_count": 5,
   "id": "5d78918a",
   "metadata": {},
   "outputs": [
    {
     "name": "stdout",
     "output_type": "stream",
     "text": [
      "   Names  Age Gender        State  Visited\n",
      "0  Klaus   21      M  New Orlance        1\n",
      "1   Noah   34      M          NYC        3\n",
      "2   Paul   42      M   California        0\n",
      "3    Eve   18      F   Washington        5\n",
      "4   Ross   24      M       Nevada        2\n",
      "5   Emma   40      F        Texas        4\n",
      "6    Tom   22      M          NYC        3\n",
      "7   Mary   29      F   California        0\n"
     ]
    }
   ],
   "source": [
    "import pandas as pd \n",
    "data = pd.DataFrame({ \n",
    "    'Names':['Klaus','Noah','Paul','Eve','Ross','Emma','Tom','Mary'], \n",
    "    'Age':[21,34,42,18,24,40,22,29],\n",
    "    'Gender':['M','M','M','F','M','F','M','F'], \n",
    "    'State':['New Orlance','NYC','California','Washington','Nevada','Texas','NYC','California'],\n",
    "    'Visited':[1,3,0,5,2,4,3,0]\n",
    "}) \n",
    "print (data)"
   ]
  },
  {
   "cell_type": "code",
   "execution_count": null,
   "id": "30c6d85d",
   "metadata": {},
   "outputs": [],
   "source": []
  }
 ],
 "metadata": {
  "kernelspec": {
   "display_name": "Python 3 (ipykernel)",
   "language": "python",
   "name": "python3"
  },
  "language_info": {
   "codemirror_mode": {
    "name": "ipython",
    "version": 3
   },
   "file_extension": ".py",
   "mimetype": "text/x-python",
   "name": "python",
   "nbconvert_exporter": "python",
   "pygments_lexer": "ipython3",
   "version": "3.9.7"
  }
 },
 "nbformat": 4,
 "nbformat_minor": 5
}
